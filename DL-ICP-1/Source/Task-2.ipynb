{
  "nbformat": 4,
  "nbformat_minor": 0,
  "metadata": {
    "colab": {
      "name": "Untitled0.ipynb",
      "provenance": []
    },
    "kernelspec": {
      "name": "python3",
      "display_name": "Python 3"
    }
  },
  "cells": [
    {
      "cell_type": "code",
      "metadata": {
        "id": "wKDaj8Z4Qluq",
        "colab_type": "code",
        "colab": {
          "base_uri": "https://localhost:8080/",
          "height": 638
        },
        "outputId": "31defbd0-5ac4-43aa-cd38-6387c6dfbb07"
      },
      "source": [
        "from keras.models import Sequential\n",
        "from keras.layers.core import Dense\n",
        "\n",
        "# load dataset\n",
        "import pandas as pd\n",
        "dataset = pd.read_csv(\"breastcancer.csv\")\n",
        "\n",
        "\n",
        "X = dataset.iloc[:, 2:32].values\n",
        "y = dataset.iloc[:, 1].values\n",
        "\n",
        "print(dataset.iloc[:, 1].value_counts())\n",
        "\n",
        "# Encoding categorical data\n",
        "from sklearn.preprocessing import LabelEncoder\n",
        "labelencoder_X_1 = LabelEncoder()\n",
        "y = labelencoder_X_1.fit_transform(y) # Fit label encoder and return encoded labels M=1, B=0\n",
        "\n",
        "from sklearn.model_selection import train_test_split\n",
        "X_train, X_test, y_train, y_test = train_test_split(X, y, test_size = 0.25, random_state = 0)\n",
        "\n",
        "\n",
        "my_first_nn = Sequential() # create model\n",
        "my_first_nn.add(Dense(20, input_dim=30, activation='relu')) # hidden layer\n",
        "my_first_nn.add(Dense(1, activation='sigmoid')) # output layer\n",
        "my_first_nn.compile(loss='binary_crossentropy', optimizer='adam', metrics=['accuracy'])\n",
        "my_first_nn_fitted = my_first_nn.fit(X_train, y_train, epochs=100, verbose=0, initial_epoch=0)\n",
        "\n",
        "print(my_first_nn.summary())\n",
        "print(my_first_nn.evaluate(X_test, y_test))\n",
        "\n",
        "# --------------Q.3 Data is normalize here ----------------------#\n",
        "from sklearn.preprocessing import StandardScaler\n",
        "sc = StandardScaler()\n",
        "\n",
        "X_train = sc.fit_transform(X_train)\n",
        "X_test = sc.transform(X_test)\n",
        "\n",
        "my_first_nn1 = Sequential() # create model\n",
        "my_first_nn1.add(Dense(20, input_dim=30, activation='relu')) # hidden layer\n",
        "my_first_nn1.add(Dense(1, activation='sigmoid')) # output layer\n",
        "my_first_nn1.compile(loss='binary_crossentropy', optimizer='adam', metrics=['accuracy'])\n",
        "\n",
        "\n",
        "my_first_nn_fitted1 = my_first_nn1.fit(X_train, y_train, epochs=100, verbose=0, initial_epoch=0)\n",
        "\n",
        "print(\"\\n----------Q.3 After Normalization---------------\\n\")\n",
        "print(my_first_nn.summary())\n",
        "print(my_first_nn.evaluate(X_test, y_test))\n"
      ],
      "execution_count": 1,
      "outputs": [
        {
          "output_type": "stream",
          "text": [
            "Using TensorFlow backend.\n"
          ],
          "name": "stderr"
        },
        {
          "output_type": "stream",
          "text": [
            "B    357\n",
            "M    212\n",
            "Name: diagnosis, dtype: int64\n",
            "Model: \"sequential_1\"\n",
            "_________________________________________________________________\n",
            "Layer (type)                 Output Shape              Param #   \n",
            "=================================================================\n",
            "dense_1 (Dense)              (None, 20)                620       \n",
            "_________________________________________________________________\n",
            "dense_2 (Dense)              (None, 1)                 21        \n",
            "=================================================================\n",
            "Total params: 641\n",
            "Trainable params: 641\n",
            "Non-trainable params: 0\n",
            "_________________________________________________________________\n",
            "None\n",
            "143/143 [==============================] - 0s 166us/step\n",
            "[0.13525177057754326, 0.9580419659614563]\n",
            "\n",
            "----------Q.3 After Normalization---------------\n",
            "\n",
            "Model: \"sequential_1\"\n",
            "_________________________________________________________________\n",
            "Layer (type)                 Output Shape              Param #   \n",
            "=================================================================\n",
            "dense_1 (Dense)              (None, 20)                620       \n",
            "_________________________________________________________________\n",
            "dense_2 (Dense)              (None, 1)                 21        \n",
            "=================================================================\n",
            "Total params: 641\n",
            "Trainable params: 641\n",
            "Non-trainable params: 0\n",
            "_________________________________________________________________\n",
            "None\n",
            "143/143 [==============================] - 0s 61us/step\n",
            "[0.30070304203700354, 0.8741258978843689]\n"
          ],
          "name": "stdout"
        }
      ]
    }
  ]
}