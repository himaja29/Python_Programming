{
  "nbformat": 4,
  "nbformat_minor": 0,
  "metadata": {
    "kernelspec": {
      "display_name": "Python 3",
      "language": "python",
      "name": "python3"
    },
    "language_info": {
      "codemirror_mode": {
        "name": "ipython",
        "version": 3
      },
      "file_extension": ".py",
      "mimetype": "text/x-python",
      "name": "python",
      "nbconvert_exporter": "python",
      "pygments_lexer": "ipython3",
      "version": "3.7.7"
    },
    "colab": {
      "name": "Word Embedding.ipynb",
      "provenance": []
    }
  },
  "cells": [
    {
      "cell_type": "code",
      "metadata": {
        "id": "MHr9CWdAtn0d",
        "colab_type": "code",
        "colab": {}
      },
      "source": [
        "# Importing the libraries\n",
        "from keras.models import Sequential\n",
        "from keras import layers\n",
        "from keras.preprocessing.text import Tokenizer\n",
        "import pandas as pd\n",
        "import numpy as np\n",
        "from sklearn import preprocessing\n",
        "from sklearn.model_selection import train_test_split"
      ],
      "execution_count": 42,
      "outputs": []
    },
    {
      "cell_type": "code",
      "metadata": {
        "id": "fV_nWPrgtn0h",
        "colab_type": "code",
        "colab": {
          "base_uri": "https://localhost:8080/",
          "height": 168
        },
        "outputId": "a76d1ec8-c36c-469a-f758-669a9191aaac"
      },
      "source": [
        "# Reading the Data file\n",
        "df = pd.read_csv('imdb_master.csv',encoding='latin-1',error_bad_lines=False)\n",
        "print(df.head())"
      ],
      "execution_count": 43,
      "outputs": [
        {
          "output_type": "stream",
          "text": [
            "b'Skipping line 10955: expected 5 fields, saw 16\\nSkipping line 11782: expected 5 fields, saw 16\\n'\n"
          ],
          "name": "stderr"
        },
        {
          "output_type": "stream",
          "text": [
            "   Unnamed: 0  type  ... label         file\n",
            "0           0  test  ...   neg      0_2.txt\n",
            "1           1  test  ...   neg  10000_4.txt\n",
            "2           2  test  ...   neg  10001_1.txt\n",
            "3           3  test  ...   neg  10002_3.txt\n",
            "4           4  test  ...   neg  10003_3.txt\n",
            "\n",
            "[5 rows x 5 columns]\n"
          ],
          "name": "stdout"
        }
      ]
    },
    {
      "cell_type": "code",
      "metadata": {
        "id": "Ba9fWDNLtn0l",
        "colab_type": "code",
        "colab": {}
      },
      "source": [
        "# Features and Target Extraction\n",
        "sentences = df['review'].values\n",
        "y = df['label'].values"
      ],
      "execution_count": 44,
      "outputs": []
    },
    {
      "cell_type": "code",
      "metadata": {
        "id": "hgmQN7dItn0o",
        "colab_type": "code",
        "colab": {}
      },
      "source": [
        "# Tokenizing data\n",
        "tokenizer = Tokenizer(num_words=2000)\n",
        "tokenizer.fit_on_texts(sentences)"
      ],
      "execution_count": 45,
      "outputs": []
    },
    {
      "cell_type": "code",
      "metadata": {
        "id": "9DuQ2tPbtn0q",
        "colab_type": "code",
        "colab": {}
      },
      "source": [
        "# getting the vocabulary of data\n",
        "sentences = tokenizer.texts_to_matrix(sentences)"
      ],
      "execution_count": 46,
      "outputs": []
    },
    {
      "cell_type": "code",
      "metadata": {
        "id": "lMGpqyT7tn0u",
        "colab_type": "code",
        "colab": {}
      },
      "source": [
        "# Label Encoding the Target ,Splitting the data\n",
        "le = preprocessing.LabelEncoder()\n",
        "y = le.fit_transform(y)\n",
        "X_train, X_test, y_train, y_test = train_test_split(sentences, y, test_size=0.25, random_state=1000)"
      ],
      "execution_count": 47,
      "outputs": []
    },
    {
      "cell_type": "code",
      "metadata": {
        "id": "Hza0vLMTtn0y",
        "colab_type": "code",
        "colab": {
          "base_uri": "https://localhost:8080/",
          "height": 34
        },
        "outputId": "89a89270-213f-4671-9ebb-78a83a4bf087"
      },
      "source": [
        "input_dim=np.prod(X_train.shape[1:])\n",
        "print(input_dim)"
      ],
      "execution_count": 48,
      "outputs": [
        {
          "output_type": "stream",
          "text": [
            "2000\n"
          ],
          "name": "stdout"
        }
      ]
    },
    {
      "cell_type": "code",
      "metadata": {
        "id": "uYWLFG7Vtn00",
        "colab_type": "code",
        "colab": {
          "base_uri": "https://localhost:8080/",
          "height": 202
        },
        "outputId": "606a042a-3921-4fea-9dd6-31b7e9c757f8"
      },
      "source": [
        "# Model Implementation\n",
        "model = Sequential()\n",
        "model.add(layers.Dense(300,input_dim=input_dim, activation='relu'))\n",
        "model.add(layers.Dense(3, activation='softmax'))\n",
        "model.compile(loss='sparse_categorical_crossentropy',optimizer='adam',metrics=['acc'])\n",
        "history=model.fit(X_train,y_train, epochs=5, verbose=True, validation_data=(X_test,y_test), batch_size=256)"
      ],
      "execution_count": 49,
      "outputs": [
        {
          "output_type": "stream",
          "text": [
            "Train on 52668 samples, validate on 17556 samples\n",
            "Epoch 1/5\n",
            "52668/52668 [==============================] - 6s 104us/step - loss: 0.7184 - acc: 0.7081 - val_loss: 0.6925 - val_acc: 0.7101\n",
            "Epoch 2/5\n",
            "52668/52668 [==============================] - 5s 103us/step - loss: 0.6349 - acc: 0.7210 - val_loss: 0.6961 - val_acc: 0.7100\n",
            "Epoch 3/5\n",
            "52668/52668 [==============================] - 5s 102us/step - loss: 0.5439 - acc: 0.7622 - val_loss: 0.7227 - val_acc: 0.7030\n",
            "Epoch 4/5\n",
            "52668/52668 [==============================] - 5s 103us/step - loss: 0.3801 - acc: 0.8603 - val_loss: 0.7605 - val_acc: 0.6871\n",
            "Epoch 5/5\n",
            "52668/52668 [==============================] - 7s 125us/step - loss: 0.2007 - acc: 0.9534 - val_loss: 0.8704 - val_acc: 0.6832\n"
          ],
          "name": "stdout"
        }
      ]
    },
    {
      "cell_type": "code",
      "metadata": {
        "id": "X2Ni1g_Gtn02",
        "colab_type": "code",
        "colab": {
          "base_uri": "https://localhost:8080/",
          "height": 50
        },
        "outputId": "5658b08f-7097-4469-da9b-571641fe17b3"
      },
      "source": [
        "# Model Evaluation\n",
        "[test_loss, test_acc] = model.evaluate(X_test, y_test)\n",
        "print(\"Evaluation result on Test Data : Loss = {}, accuracy = {}\".format(test_loss, test_acc))"
      ],
      "execution_count": 50,
      "outputs": [
        {
          "output_type": "stream",
          "text": [
            "17556/17556 [==============================] - 1s 77us/step\n",
            "Evaluation result on Test Data : Loss = 0.8703606800789658, accuracy = 0.6832422018051147\n"
          ],
          "name": "stdout"
        }
      ]
    },
    {
      "cell_type": "code",
      "metadata": {
        "id": "mbLl3mrmtn04",
        "colab_type": "code",
        "colab": {
          "base_uri": "https://localhost:8080/",
          "height": 34
        },
        "outputId": "39195515-97e6-41fe-a504-2f9848b44cb8"
      },
      "source": [
        "# Loss and Accuracy Curve\n",
        "print(history.history.keys())"
      ],
      "execution_count": 51,
      "outputs": [
        {
          "output_type": "stream",
          "text": [
            "dict_keys(['val_loss', 'val_acc', 'loss', 'acc'])\n"
          ],
          "name": "stdout"
        }
      ]
    },
    {
      "cell_type": "code",
      "metadata": {
        "id": "jjBNChdrtn06",
        "colab_type": "code",
        "colab": {
          "base_uri": "https://localhost:8080/",
          "height": 295
        },
        "outputId": "75cde598-3af1-4937-a2f4-cd14fa106d55"
      },
      "source": [
        "import matplotlib.pyplot as plt\n",
        "plt.plot(history.history['acc'])\n",
        "plt.plot(history.history['val_acc'])\n",
        "plt.plot(history.history['loss'])\n",
        "plt.plot(history.history['val_loss'])\n",
        "plt.title('model accuracy')\n",
        "plt.ylabel('accuracy')\n",
        "plt.xlabel('epoch')\n",
        "plt.legend(['accuray', 'val_accuracy','loss','val_loss'], loc='upper left')\n",
        "plt.show()"
      ],
      "execution_count": 52,
      "outputs": [
        {
          "output_type": "display_data",
          "data": {
            "image/png": "[encoded data removed]",
            "text/plain": [
              "<Figure size 432x288 with 1 Axes>"
            ]
          },
          "metadata": {
            "tags": [],
            "needs_background": "light"
          }
        }
      ]
    },
    {
      "cell_type": "code",
      "metadata": {
        "id": "Hfiun0obtn09",
        "colab_type": "code",
        "colab": {
          "base_uri": "https://localhost:8080/",
          "height": 50
        },
        "outputId": "26942df1-cf5f-4e50-bbd5-865c5ac210a0"
      },
      "source": [
        "# Adding Embedding Layer\n",
        "# Pre processing for Embedding Layer\n",
        "\n",
        "from keras.preprocessing.sequence import pad_sequences\n",
        "pureSentences = df['review'].values\n",
        "max_review_len= max([len(s.split()) for s in pureSentences])\n",
        "vocab_size= len(tokenizer.word_index)+1\n",
        "sentencesPre = tokenizer.texts_to_sequences(pureSentences)\n",
        "padded_docs= pad_sequences(sentencesPre,maxlen=max_review_len)\n",
        "\n",
        "X_train, X_test, y_train, y_test = train_test_split(padded_docs, y, test_size=0.25, random_state=1000)\n",
        "print(vocab_size)\n",
        "print(max_review_len)"
      ],
      "execution_count": 53,
      "outputs": [
        {
          "output_type": "stream",
          "text": [
            "148223\n",
            "2470\n"
          ],
          "name": "stdout"
        }
      ]
    },
    {
      "cell_type": "code",
      "metadata": {
        "id": "5A6COK3ytn1B",
        "colab_type": "code",
        "colab": {
          "base_uri": "https://localhost:8080/",
          "height": 289
        },
        "outputId": "a8ec949c-c87c-4ffe-94e7-9e5e84b5ad59"
      },
      "source": [
        "# Model implementation adding Embedding Layer\n",
        "from keras.layers import Embedding, Flatten\n",
        "m = Sequential()\n",
        "m.add(Embedding(vocab_size, 50, input_length=max_review_len))\n",
        "m.add(Flatten())\n",
        "m.add(layers.Dense(300, activation='relu',input_dim=max_review_len))\n",
        "m.add(layers.Dense(3, activation='softmax'))\n",
        "m.compile(loss='sparse_categorical_crossentropy',optimizer='adam',metrics=['acc'])\n",
        "history1=m.fit(X_train,y_train, epochs=5, verbose=True, validation_data=(X_test,y_test), batch_size=256)\n",
        "\n",
        "# Model Evaluation\n",
        "[test_loss1, test_acc1] = m.evaluate(X_test, y_test)\n",
        "print(\"Evaluation result on Test Data : Loss = {}, accuracy = {}\".format(test_loss1, test_acc1))"
      ],
      "execution_count": 54,
      "outputs": [
        {
          "output_type": "stream",
          "text": [
            "/usr/local/lib/python3.6/dist-packages/tensorflow/python/framework/indexed_slices.py:434: UserWarning: Converting sparse IndexedSlices to a dense Tensor of unknown shape. This may consume a large amount of memory.\n",
            "  \"Converting sparse IndexedSlices to a dense Tensor of unknown shape. \"\n"
          ],
          "name": "stderr"
        },
        {
          "output_type": "stream",
          "text": [
            "Train on 52668 samples, validate on 17556 samples\n",
            "Epoch 1/5\n",
            "52668/52668 [==============================] - 344s 7ms/step - loss: 0.8830 - acc: 0.7013 - val_loss: 0.7531 - val_acc: 0.7113\n",
            "Epoch 2/5\n",
            "52668/52668 [==============================] - 345s 7ms/step - loss: 0.6832 - acc: 0.7140 - val_loss: 0.7127 - val_acc: 0.7102\n",
            "Epoch 3/5\n",
            "52668/52668 [==============================] - 340s 6ms/step - loss: 0.5372 - acc: 0.7707 - val_loss: 0.7834 - val_acc: 0.6690\n",
            "Epoch 4/5\n",
            "52668/52668 [==============================] - 342s 6ms/step - loss: 0.3495 - acc: 0.8680 - val_loss: 0.9601 - val_acc: 0.6337\n",
            "Epoch 5/5\n",
            "52668/52668 [==============================] - 345s 7ms/step - loss: 0.2007 - acc: 0.9358 - val_loss: 1.2499 - val_acc: 0.6358\n",
            "17556/17556 [==============================] - 36s 2ms/step\n",
            "Evaluation result on Test Data : Loss = 1.2498683868059675, accuracy = 0.6357940435409546\n"
          ],
          "name": "stdout"
        }
      ]
    },
    {
      "cell_type": "code",
      "metadata": {
        "id": "YfUispsztn1E",
        "colab_type": "code",
        "colab": {
          "base_uri": "https://localhost:8080/",
          "height": 295
        },
        "outputId": "44a43cc6-8ce0-421c-9c99-00600edf229c"
      },
      "source": [
        "# Loss and Accuracy Curve after adding Embedding Layer\n",
        "import matplotlib.pyplot as plt\n",
        "plt.plot(history1.history['acc'])\n",
        "plt.plot(history1.history['val_acc'])\n",
        "plt.plot(history1.history['loss'])\n",
        "plt.plot(history1.history['val_loss'])\n",
        "plt.title('model accuracy')\n",
        "plt.ylabel('accuracy')\n",
        "plt.xlabel('epoch')\n",
        "plt.legend(['accuray', 'val_accuracy','loss','val_loss'], loc='upper left')\n",
        "plt.show()"
      ],
      "execution_count": 40,
      "outputs": [
        {
          "output_type": "display_data",
          "data": {
            "image/png": "[encoded data removed]",
            "text/plain": [
              "<Figure size 432x288 with 1 Axes>"
            ]
          },
          "metadata": {
            "tags": [],
            "needs_background": "light"
          }
        }
      ]
    },
    {
      "cell_type": "code",
      "metadata": {
        "id": "WnF9g7Eetn1H",
        "colab_type": "code",
        "colab": {
          "base_uri": "https://localhost:8080/",
          "height": 34
        },
        "outputId": "40f3f8a9-e13d-47ab-9e2c-c4b046c9cb20"
      },
      "source": [
        "pred = m.predict_classes(X_test[[2],:])\n",
        "print(\"Actual Prediction\",y_test[1],\"Predicted Prediction\", pred)"
      ],
      "execution_count": 41,
      "outputs": [
        {
          "output_type": "stream",
          "text": [
            "Actual Prediction 2 Predicted Prediction [2]\n"
          ],
          "name": "stdout"
        }
      ]
    },
    {
      "cell_type": "code",
      "metadata": {
        "id": "2v6yMZ-mtn1K",
        "colab_type": "code",
        "colab": {}
      },
      "source": [
        ""
      ],
      "execution_count": null,
      "outputs": []
    }
  ]
}