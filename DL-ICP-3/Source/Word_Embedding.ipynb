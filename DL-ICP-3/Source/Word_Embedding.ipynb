{
  "nbformat": 4,
  "nbformat_minor": 0,
  "metadata": {
    "kernelspec": {
      "display_name": "Python 3",
      "language": "python",
      "name": "python3"
    },
    "language_info": {
      "codemirror_mode": {
        "name": "ipython",
        "version": 3
      },
      "file_extension": ".py",
      "mimetype": "text/x-python",
      "name": "python",
      "nbconvert_exporter": "python",
      "pygments_lexer": "ipython3",
      "version": "3.7.7"
    },
    "colab": {
      "name": "Word Embedding.ipynb",
      "provenance": []
    }
  },
  "cells": [
    {
      "cell_type": "code",
      "metadata": {
        "id": "MHr9CWdAtn0d",
        "colab_type": "code",
        "colab": {}
      },
      "source": [
        "# Importing the libraries\n",
        "from keras.models import Sequential\n",
        "from keras import layers\n",
        "from keras.preprocessing.text import Tokenizer\n",
        "import pandas as pd\n",
        "import numpy as np\n",
        "from sklearn import preprocessing\n",
        "from sklearn.model_selection import train_test_split\n",
        "#import csv"
      ],
      "execution_count": 13,
      "outputs": []
    },
    {
      "cell_type": "code",
      "metadata": {
        "id": "fV_nWPrgtn0h",
        "colab_type": "code",
        "colab": {
          "base_uri": "https://localhost:8080/",
          "height": 151
        },
        "outputId": "3e3d7c4c-e83a-48ba-ff3b-d43f16fb6e6a"
      },
      "source": [
        "# Reading the Data file\n",
        "df = pd.read_csv('imdb_master.csv',encoding='latin-1',error_bad_lines=False )\n",
        "#df = pd.read_csv('imdb_master.csv',delimiter=\"\\t\", quoting=csv.QUOTE_NONE, encoding='latin-1')\n",
        "\n",
        "print(df.head())"
      ],
      "execution_count": 14,
      "outputs": [
        {
          "output_type": "stream",
          "text": [
            "   Unnamed: 0  type  ... label         file\n",
            "0           0  test  ...   neg      0_2.txt\n",
            "1           1  test  ...   neg  10000_4.txt\n",
            "2           2  test  ...   neg  10001_1.txt\n",
            "3           3  test  ...   neg  10002_3.txt\n",
            "4           4  test  ...   neg  10003_3.txt\n",
            "\n",
            "[5 rows x 5 columns]\n"
          ],
          "name": "stdout"
        }
      ]
    },
    {
      "cell_type": "code",
      "metadata": {
        "id": "Ba9fWDNLtn0l",
        "colab_type": "code",
        "colab": {}
      },
      "source": [
        "# Features and Target Extraction\n",
        "sentences = df['review'].values\n",
        "y = df['label'].values"
      ],
      "execution_count": 16,
      "outputs": []
    },
    {
      "cell_type": "code",
      "metadata": {
        "id": "hgmQN7dItn0o",
        "colab_type": "code",
        "colab": {}
      },
      "source": [
        "# Tokenizing data\n",
        "tokenizer = Tokenizer(num_words=2000)\n",
        "tokenizer.fit_on_texts(sentences)"
      ],
      "execution_count": 17,
      "outputs": []
    },
    {
      "cell_type": "code",
      "metadata": {
        "id": "9DuQ2tPbtn0q",
        "colab_type": "code",
        "colab": {}
      },
      "source": [
        "# getting the vocabulary of data\n",
        "sentences = tokenizer.texts_to_matrix(sentences)"
      ],
      "execution_count": 18,
      "outputs": []
    },
    {
      "cell_type": "code",
      "metadata": {
        "id": "lMGpqyT7tn0u",
        "colab_type": "code",
        "colab": {}
      },
      "source": [
        "# Label Encoding the Target ,Splitting the data\n",
        "le = preprocessing.LabelEncoder()\n",
        "y = le.fit_transform(y)\n",
        "X_train, X_test, y_train, y_test = train_test_split(sentences, y, test_size=0.25, random_state=1000)"
      ],
      "execution_count": 19,
      "outputs": []
    },
    {
      "cell_type": "code",
      "metadata": {
        "id": "Hza0vLMTtn0y",
        "colab_type": "code",
        "colab": {
          "base_uri": "https://localhost:8080/",
          "height": 34
        },
        "outputId": "22f76964-2877-4c8c-f63b-c839d332bf40"
      },
      "source": [
        "input_dim=np.prod(X_train.shape[1:])\n",
        "print(input_dim)"
      ],
      "execution_count": 20,
      "outputs": [
        {
          "output_type": "stream",
          "text": [
            "2000\n"
          ],
          "name": "stdout"
        }
      ]
    },
    {
      "cell_type": "code",
      "metadata": {
        "id": "uYWLFG7Vtn00",
        "colab_type": "code",
        "colab": {
          "base_uri": "https://localhost:8080/",
          "height": 202
        },
        "outputId": "a5d8f344-43df-4e4a-cc0f-5579cdfdef7c"
      },
      "source": [
        "# Model Implementation\n",
        "model = Sequential()\n",
        "model.add(layers.Dense(300,input_dim=input_dim, activation='relu'))\n",
        "model.add(layers.Dense(3, activation='softmax'))\n",
        "model.compile(loss='sparse_categorical_crossentropy',optimizer='adam',metrics=['acc'])\n",
        "history=model.fit(X_train,y_train, epochs=5, verbose=True, validation_data=(X_test,y_test), batch_size=256)"
      ],
      "execution_count": 21,
      "outputs": [
        {
          "output_type": "stream",
          "text": [
            "Train on 75000 samples, validate on 25000 samples\n",
            "Epoch 1/5\n",
            "75000/75000 [==============================] - 7s 100us/step - loss: 0.8807 - acc: 0.5037 - val_loss: 0.8432 - val_acc: 0.5097\n",
            "Epoch 2/5\n",
            "75000/75000 [==============================] - 7s 97us/step - loss: 0.7928 - acc: 0.5767 - val_loss: 0.8408 - val_acc: 0.5153\n",
            "Epoch 3/5\n",
            "75000/75000 [==============================] - 7s 96us/step - loss: 0.6896 - acc: 0.6762 - val_loss: 0.8646 - val_acc: 0.5183\n",
            "Epoch 4/5\n",
            "75000/75000 [==============================] - 7s 95us/step - loss: 0.4992 - acc: 0.8134 - val_loss: 0.9558 - val_acc: 0.5071\n",
            "Epoch 5/5\n",
            "75000/75000 [==============================] - 7s 97us/step - loss: 0.2911 - acc: 0.9228 - val_loss: 1.0713 - val_acc: 0.5054\n"
          ],
          "name": "stdout"
        }
      ]
    },
    {
      "cell_type": "code",
      "metadata": {
        "id": "X2Ni1g_Gtn02",
        "colab_type": "code",
        "colab": {
          "base_uri": "https://localhost:8080/",
          "height": 50
        },
        "outputId": "50786370-8107-4960-fe9b-d639e70359b1"
      },
      "source": [
        "# Model Evaluation\n",
        "[test_loss, test_acc] = model.evaluate(X_test, y_test)\n",
        "print(\"Evaluation result on Test Data : Loss = {}, accuracy = {}\".format(test_loss, test_acc))"
      ],
      "execution_count": 22,
      "outputs": [
        {
          "output_type": "stream",
          "text": [
            "25000/25000 [==============================] - 2s 63us/step\n",
            "Evaluation result on Test Data : Loss = 1.0712904376220702, accuracy = 0.5053600072860718\n"
          ],
          "name": "stdout"
        }
      ]
    },
    {
      "cell_type": "code",
      "metadata": {
        "id": "mbLl3mrmtn04",
        "colab_type": "code",
        "colab": {
          "base_uri": "https://localhost:8080/",
          "height": 34
        },
        "outputId": "5a155296-8cf1-46f5-9e36-62eb6b44f1f8"
      },
      "source": [
        "# Loss and Accuracy Curve\n",
        "print(history.history.keys())"
      ],
      "execution_count": 23,
      "outputs": [
        {
          "output_type": "stream",
          "text": [
            "dict_keys(['val_loss', 'val_acc', 'loss', 'acc'])\n"
          ],
          "name": "stdout"
        }
      ]
    },
    {
      "cell_type": "code",
      "metadata": {
        "id": "jjBNChdrtn06",
        "colab_type": "code",
        "colab": {
          "base_uri": "https://localhost:8080/",
          "height": 295
        },
        "outputId": "50c9a64f-8ca8-4ea5-e6a7-2be801a66dd2"
      },
      "source": [
        "import matplotlib.pyplot as plt\n",
        "plt.plot(history.history['acc'])\n",
        "plt.plot(history.history['val_acc'])\n",
        "plt.plot(history.history['loss'])\n",
        "plt.plot(history.history['val_loss'])\n",
        "plt.title('model accuracy')\n",
        "plt.ylabel('accuracy')\n",
        "plt.xlabel('epoch')\n",
        "plt.legend(['accuray', 'val_accuracy','loss','val_loss'], loc='upper left')\n",
        "plt.show()"
      ],
      "execution_count": 24,
      "outputs": [
        {
          "output_type": "display_data",
          "data": {
            "image/png": "[encoded data removed]",
            "text/plain": [
              "<Figure size 432x288 with 1 Axes>"
            ]
          },
          "metadata": {
            "tags": [],
            "needs_background": "light"
          }
        }
      ]
    },
    {
      "cell_type": "code",
      "metadata": {
        "id": "Hfiun0obtn09",
        "colab_type": "code",
        "colab": {
          "base_uri": "https://localhost:8080/",
          "height": 50
        },
        "outputId": "6a6805f9-26df-4610-d4b2-70f064415ce7"
      },
      "source": [
        "# Adding Embedding Layer\n",
        "# Pre processing for Embedding Layer\n",
        "\n",
        "from keras.preprocessing.sequence import pad_sequences\n",
        "pureSentences = df['review'].values\n",
        "max_review_len= max([len(s.split()) for s in pureSentences])\n",
        "vocab_size= len(tokenizer.word_index)+1\n",
        "sentencesPre = tokenizer.texts_to_sequences(pureSentences)\n",
        "padded_docs= pad_sequences(sentencesPre,maxlen=max_review_len)\n",
        "\n",
        "X_train, X_test, y_train, y_test = train_test_split(padded_docs, y, test_size=0.25, random_state=1000)\n",
        "print(vocab_size)\n",
        "print(max_review_len)"
      ],
      "execution_count": 25,
      "outputs": [
        {
          "output_type": "stream",
          "text": [
            "176408\n",
            "2470\n"
          ],
          "name": "stdout"
        }
      ]
    },
    {
      "cell_type": "code",
      "metadata": {
        "id": "5A6COK3ytn1B",
        "colab_type": "code",
        "colab": {
          "base_uri": "https://localhost:8080/",
          "height": 289
        },
        "outputId": "92201ec0-dfc9-4851-c954-902d8dde4379"
      },
      "source": [
        "# Model implementation adding Embedding Layer\n",
        "from keras.layers import Embedding, Flatten\n",
        "m = Sequential()\n",
        "m.add(Embedding(vocab_size, 50, input_length=max_review_len))\n",
        "m.add(Flatten())\n",
        "m.add(layers.Dense(300, activation='relu',input_dim=max_review_len))\n",
        "m.add(layers.Dense(3, activation='softmax'))\n",
        "m.compile(loss='sparse_categorical_crossentropy',optimizer='adam',metrics=['acc'])\n",
        "history1=m.fit(X_train,y_train, epochs=5, verbose=True, validation_data=(X_test,y_test), batch_size=256)\n",
        "\n",
        "# Model Evaluation\n",
        "[test_loss1, test_acc1] = m.evaluate(X_test, y_test)\n",
        "print(\"Evaluation result on Test Data : Loss = {}, accuracy = {}\".format(test_loss1, test_acc1))"
      ],
      "execution_count": 26,
      "outputs": [
        {
          "output_type": "stream",
          "text": [
            "/usr/local/lib/python3.6/dist-packages/tensorflow/python/framework/indexed_slices.py:434: UserWarning: Converting sparse IndexedSlices to a dense Tensor of unknown shape. This may consume a large amount of memory.\n",
            "  \"Converting sparse IndexedSlices to a dense Tensor of unknown shape. \"\n"
          ],
          "name": "stderr"
        },
        {
          "output_type": "stream",
          "text": [
            "Train on 75000 samples, validate on 25000 samples\n",
            "Epoch 1/5\n",
            "75000/75000 [==============================] - 490s 7ms/step - loss: 1.0259 - acc: 0.4838 - val_loss: 0.8732 - val_acc: 0.4969\n",
            "Epoch 2/5\n",
            "75000/75000 [==============================] - 490s 7ms/step - loss: 0.8013 - acc: 0.5671 - val_loss: 0.8723 - val_acc: 0.4948\n",
            "Epoch 3/5\n",
            "75000/75000 [==============================] - 491s 7ms/step - loss: 0.6674 - acc: 0.6713 - val_loss: 0.9582 - val_acc: 0.4875\n",
            "Epoch 4/5\n",
            "75000/75000 [==============================] - 492s 7ms/step - loss: 0.5108 - acc: 0.7707 - val_loss: 1.1432 - val_acc: 0.4819\n",
            "Epoch 5/5\n",
            "75000/75000 [==============================] - 493s 7ms/step - loss: 0.3740 - acc: 0.8457 - val_loss: 1.4276 - val_acc: 0.4804\n",
            "25000/25000 [==============================] - 52s 2ms/step\n",
            "Evaluation result on Test Data : Loss = 1.4276225415420531, accuracy = 0.4803600013256073\n"
          ],
          "name": "stdout"
        }
      ]
    },
    {
      "cell_type": "code",
      "metadata": {
        "id": "YfUispsztn1E",
        "colab_type": "code",
        "colab": {
          "base_uri": "https://localhost:8080/",
          "height": 295
        },
        "outputId": "93952447-d007-401f-c44e-149a40ae207e"
      },
      "source": [
        "# Loss and Accuracy Curve after adding Embedding Layer\n",
        "import matplotlib.pyplot as plt\n",
        "plt.plot(history1.history['acc'])\n",
        "plt.plot(history1.history['val_acc'])\n",
        "plt.plot(history1.history['loss'])\n",
        "plt.plot(history1.history['val_loss'])\n",
        "plt.title('model accuracy')\n",
        "plt.ylabel('accuracy')\n",
        "plt.xlabel('epoch')\n",
        "plt.legend(['accuray', 'val_accuracy','loss','val_loss'], loc='upper left')\n",
        "plt.show()"
      ],
      "execution_count": 27,
      "outputs": [
        {
          "output_type": "display_data",
          "data": {
            "image/png": "[encoded data removed]",
            "text/plain": [
              "<Figure size 432x288 with 1 Axes>"
            ]
          },
          "metadata": {
            "tags": [],
            "needs_background": "light"
          }
        }
      ]
    },
    {
      "cell_type": "code",
      "metadata": {
        "id": "WnF9g7Eetn1H",
        "colab_type": "code",
        "colab": {
          "base_uri": "https://localhost:8080/",
          "height": 34
        },
        "outputId": "d4b43a22-a360-4a2f-93e7-1166f7a1a312"
      },
      "source": [
        "pred = m.predict_classes(X_test[[2],:])\n",
        "print(\"Actual Prediction\",y_test[1],\"Predicted Prediction\", pred)"
      ],
      "execution_count": 28,
      "outputs": [
        {
          "output_type": "stream",
          "text": [
            "Actual Prediction 2 Predicted Prediction [2]\n"
          ],
          "name": "stdout"
        }
      ]
    },
    {
      "cell_type": "code",
      "metadata": {
        "id": "2v6yMZ-mtn1K",
        "colab_type": "code",
        "colab": {}
      },
      "source": [
        ""
      ],
      "execution_count": null,
      "outputs": []
    }
  ]
}