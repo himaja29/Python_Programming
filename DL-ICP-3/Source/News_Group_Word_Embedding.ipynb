{
  "nbformat": 4,
  "nbformat_minor": 0,
  "metadata": {
    "kernelspec": {
      "display_name": "Python 3",
      "language": "python",
      "name": "python3"
    },
    "language_info": {
      "codemirror_mode": {
        "name": "ipython",
        "version": 3
      },
      "file_extension": ".py",
      "mimetype": "text/x-python",
      "name": "python",
      "nbconvert_exporter": "python",
      "pygments_lexer": "ipython3",
      "version": "3.7.7"
    },
    "colab": {
      "name": "News Group Word Embedding.ipynb",
      "provenance": []
    }
  },
  "cells": [
    {
      "cell_type": "code",
      "metadata": {
        "id": "g-tGwyqakqLl",
        "colab_type": "code",
        "colab": {}
      },
      "source": [
        "# Importing the libraries\n",
        "from keras.models import Sequential\n",
        "from keras import layers\n",
        "from keras.preprocessing.text import Tokenizer\n",
        "import pandas as pd\n",
        "import numpy as np\n",
        "from sklearn import preprocessing\n",
        "from sklearn.model_selection import train_test_split"
      ],
      "execution_count": 13,
      "outputs": []
    },
    {
      "cell_type": "code",
      "metadata": {
        "id": "OfaB_nMwkqLp",
        "colab_type": "code",
        "colab": {}
      },
      "source": [
        "# Importing News Datasets\n",
        "from sklearn.datasets import fetch_20newsgroups\n",
        "twenty_train = fetch_20newsgroups(subset='train', shuffle=True)"
      ],
      "execution_count": 14,
      "outputs": []
    },
    {
      "cell_type": "code",
      "metadata": {
        "id": "9Sg_czDrkqLr",
        "colab_type": "code",
        "colab": {}
      },
      "source": [
        "# Features and Target Extraction\n",
        "sentences= twenty_train.data\n",
        "y=twenty_train.target"
      ],
      "execution_count": 15,
      "outputs": []
    },
    {
      "cell_type": "code",
      "metadata": {
        "id": "NVtVEtBYkqLt",
        "colab_type": "code",
        "colab": {}
      },
      "source": [
        "# Tokenizing data\n",
        "tokenizer = Tokenizer(num_words=2000)"
      ],
      "execution_count": 16,
      "outputs": []
    },
    {
      "cell_type": "code",
      "metadata": {
        "id": "_W0fu7FZkqLz",
        "colab_type": "code",
        "colab": {}
      },
      "source": [
        "# Preprocessing the data\n",
        "from keras.preprocessing.sequence import pad_sequences\n",
        "max_review_len= max([len(s.split()) for s in sentences])\n",
        "vocab_size= len(tokenizer.word_index)+1\n",
        "sentencesPre = tokenizer.texts_to_sequences(sentences)\n",
        "padded_docs= pad_sequences(sentencesPre,maxlen=max_review_len)\n",
        "X_train, X_test, y_train, y_test = train_test_split(padded_docs, y, test_size=0.25, random_state=1000)"
      ],
      "execution_count": 17,
      "outputs": []
    },
    {
      "cell_type": "code",
      "metadata": {
        "id": "vZLDMzgHkqL1",
        "colab_type": "code",
        "colab": {}
      },
      "source": [
        "# Model Implementation\n",
        "from keras.layers import Embedding, Flatten\n",
        "model = Sequential()\n",
        "model.add(Embedding(vocab_size, 50, input_length=max_review_len))\n",
        "model.add(Flatten())\n",
        "model.add(layers.Dense(300, activation='relu',input_dim=max_review_len))\n",
        "model.add(layers.Dense(20, activation='softmax'))\n",
        "model.compile(loss='sparse_categorical_crossentropy',optimizer='adam',metrics=['acc'])"
      ],
      "execution_count": 18,
      "outputs": []
    },
    {
      "cell_type": "code",
      "metadata": {
        "id": "oH_-_WNckqL3",
        "colab_type": "code",
        "colab": {
          "base_uri": "https://localhost:8080/",
          "height": 289
        },
        "outputId": "4cf7488a-7581-4546-80b2-abe64ba905b3"
      },
      "source": [
        "history = model.fit(X_train,y_train, epochs=5, verbose=True, validation_data=(X_test,y_test), batch_size=256)\n",
        "\n",
        "# Model Evaluation\n",
        "[test_loss, test_acc] = model.evaluate(X_test, y_test)\n",
        "print(\"Evaluation result on Test Data : Loss = {}, accuracy = {}\".format(test_loss, test_acc))"
      ],
      "execution_count": 19,
      "outputs": [
        {
          "output_type": "stream",
          "text": [
            "/usr/local/lib/python3.6/dist-packages/tensorflow/python/framework/indexed_slices.py:434: UserWarning: Converting sparse IndexedSlices to a dense Tensor of unknown shape. This may consume a large amount of memory.\n",
            "  \"Converting sparse IndexedSlices to a dense Tensor of unknown shape. \"\n"
          ],
          "name": "stderr"
        },
        {
          "output_type": "stream",
          "text": [
            "Train on 8485 samples, validate on 2829 samples\n",
            "Epoch 1/5\n",
            "8485/8485 [==============================] - 260s 31ms/step - loss: 7.8816 - acc: 0.0509 - val_loss: 2.9963 - val_acc: 0.0516\n",
            "Epoch 2/5\n",
            "8485/8485 [==============================] - 257s 30ms/step - loss: 3.0041 - acc: 0.0488 - val_loss: 2.9958 - val_acc: 0.0544\n",
            "Epoch 3/5\n",
            "8485/8485 [==============================] - 257s 30ms/step - loss: 2.9956 - acc: 0.0511 - val_loss: 2.9952 - val_acc: 0.0513\n",
            "Epoch 4/5\n",
            "8485/8485 [==============================] - 257s 30ms/step - loss: 2.9951 - acc: 0.0526 - val_loss: 2.9945 - val_acc: 0.0513\n",
            "Epoch 5/5\n",
            "8485/8485 [==============================] - 256s 30ms/step - loss: 2.9946 - acc: 0.0501 - val_loss: 2.9939 - val_acc: 0.0513\n",
            "2829/2829 [==============================] - 28s 10ms/step\n",
            "Evaluation result on Test Data : Loss = 2.993852180657601, accuracy = 0.05125486105680466\n"
          ],
          "name": "stdout"
        }
      ]
    },
    {
      "cell_type": "code",
      "metadata": {
        "id": "8W6Cy2o7kqL6",
        "colab_type": "code",
        "colab": {
          "base_uri": "https://localhost:8080/",
          "height": 34
        },
        "outputId": "815c3ef2-5434-4577-b3d1-340ca816534b"
      },
      "source": [
        "# Predicting the Value for test sample\n",
        "pred = model.predict_classes(X_test[[2],:])\n",
        "print(\"Actual Prediction\",y_test[1],\"Predicted Prediction\", pred)"
      ],
      "execution_count": 20,
      "outputs": [
        {
          "output_type": "stream",
          "text": [
            "Actual Prediction 6 Predicted Prediction [12]\n"
          ],
          "name": "stdout"
        }
      ]
    },
    {
      "cell_type": "code",
      "metadata": {
        "id": "AFs6ncrvkqL9",
        "colab_type": "code",
        "colab": {
          "base_uri": "https://localhost:8080/",
          "height": 295
        },
        "outputId": "eee62d35-8c84-4eb1-8b52-fb51b2134889"
      },
      "source": [
        "import matplotlib.pyplot as plt\n",
        "plt.plot(history.history['acc'])\n",
        "plt.plot(history.history['val_acc'])\n",
        "plt.plot(history.history['loss'])\n",
        "plt.plot(history.history['val_loss'])\n",
        "plt.title('model accuracy')\n",
        "plt.ylabel('accuracy')\n",
        "plt.xlabel('epoch')\n",
        "plt.legend(['accuray', 'val_accuracy','loss','val_loss'], loc='upper left')\n",
        "plt.show()"
      ],
      "execution_count": 21,
      "outputs": [
        {
          "output_type": "display_data",
          "data": {
            "image/png": "[encoded data removed]",
            "text/plain": [
              "<Figure size 432x288 with 1 Axes>"
            ]
          },
          "metadata": {
            "tags": [],
            "needs_background": "light"
          }
        }
      ]
    },
    {
      "cell_type": "code",
      "metadata": {
        "id": "mdMxlvkIkqMB",
        "colab_type": "code",
        "colab": {}
      },
      "source": [
        ""
      ],
      "execution_count": null,
      "outputs": []
    }
  ]
}